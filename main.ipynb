{
  "cells": [
    {
      "cell_type": "markdown",
      "id": "IKtXWxuWh3IK",
      "metadata": {
        "id": "IKtXWxuWh3IK"
      },
      "source": [
        "# Deciphering Stocks : Time series Analysis and Risk Metrics\n",
        "\n",
        "1. Stock data retrieval and plotting\n",
        "2. Correlation between the stocks\n",
        "3. Portfolio Optimization - Minimum Variance Portfolio\n",
        "4. VaR and ES - Historical\n",
        "5. VaR and ES - Gaussian\n",
        "6. Time series Analysis\n",
        "  - FB Prophet\n",
        "  - Random Forest\n",
        "  - LSTM"
      ]
    },
    {
      "cell_type": "markdown",
      "id": "Yf8_XVlMsGpm",
      "metadata": {
        "id": "Yf8_XVlMsGpm"
      },
      "source": [
        "# Stock data retrieval and plotting"
      ]
    },
    {
      "cell_type": "code",
      "execution_count": null,
      "id": "eP-r1skSl7AK",
      "metadata": {
        "colab": {
          "base_uri": "https://localhost:8080/"
        },
        "id": "eP-r1skSl7AK",
        "outputId": "06c1c268-5770-4654-f000-e37df9a4f311"
      },
      "outputs": [
        {
          "name": "stdout",
          "output_type": "stream",
          "text": [
            "Requirement already satisfied: alpha_vantage in /usr/local/lib/python3.10/dist-packages (2.3.1)\n",
            "Requirement already satisfied: aiohttp in /usr/local/lib/python3.10/dist-packages (from alpha_vantage) (3.9.3)\n",
            "Requirement already satisfied: requests in /usr/local/lib/python3.10/dist-packages (from alpha_vantage) (2.31.0)\n",
            "Requirement already satisfied: aiosignal>=1.1.2 in /usr/local/lib/python3.10/dist-packages (from aiohttp->alpha_vantage) (1.3.1)\n",
            "Requirement already satisfied: attrs>=17.3.0 in /usr/local/lib/python3.10/dist-packages (from aiohttp->alpha_vantage) (23.2.0)\n",
            "Requirement already satisfied: frozenlist>=1.1.1 in /usr/local/lib/python3.10/dist-packages (from aiohttp->alpha_vantage) (1.4.1)\n",
            "Requirement already satisfied: multidict<7.0,>=4.5 in /usr/local/lib/python3.10/dist-packages (from aiohttp->alpha_vantage) (6.0.5)\n",
            "Requirement already satisfied: yarl<2.0,>=1.0 in /usr/local/lib/python3.10/dist-packages (from aiohttp->alpha_vantage) (1.9.4)\n",
            "Requirement already satisfied: async-timeout<5.0,>=4.0 in /usr/local/lib/python3.10/dist-packages (from aiohttp->alpha_vantage) (4.0.3)\n",
            "Requirement already satisfied: charset-normalizer<4,>=2 in /usr/local/lib/python3.10/dist-packages (from requests->alpha_vantage) (3.3.2)\n",
            "Requirement already satisfied: idna<4,>=2.5 in /usr/local/lib/python3.10/dist-packages (from requests->alpha_vantage) (3.6)\n",
            "Requirement already satisfied: urllib3<3,>=1.21.1 in /usr/local/lib/python3.10/dist-packages (from requests->alpha_vantage) (2.0.7)\n",
            "Requirement already satisfied: certifi>=2017.4.17 in /usr/local/lib/python3.10/dist-packages (from requests->alpha_vantage) (2024.2.2)\n"
          ]
        }
      ],
      "source": [
        "!pip install alpha_vantage"
      ]
    },
    {
      "cell_type": "code",
      "execution_count": null,
      "id": "12Jb3scUjsem",
      "metadata": {
        "id": "12Jb3scUjsem"
      },
      "outputs": [],
      "source": [
        "# Getting stock data for TSLA, JNJ, KO\n",
        "from alpha_vantage.timeseries import TimeSeries\n",
        "import pandas as pd\n",
        "\n",
        "api_key = 'YVMGNFOENSJ6394X'\n",
        "ts = TimeSeries(key=api_key, output_format='pandas')\n",
        "\n",
        "symbols = ['TSLA', 'JNJ', 'KO']\n",
        "\n",
        "data = {}\n",
        "for symbol in symbols:\n",
        "    data[symbol], _ = ts.get_daily(symbol=symbol, outputsize='full')"
      ]
    },
    {
      "cell_type": "code",
      "execution_count": null,
      "id": "7C7p6qZxpYZK",
      "metadata": {
        "colab": {
          "base_uri": "https://localhost:8080/"
        },
        "id": "7C7p6qZxpYZK",
        "outputId": "30a3ad89-78d5-4189-998c-f1467e9b4120"
      },
      "outputs": [
        {
          "name": "stdout",
          "output_type": "stream",
          "text": [
            "{'TSLA':             1. open   2. high    3. low  4. close    5. volume\n",
            "date                                                          \n",
            "2024-04-16  156.742  158.1900  153.7500    157.11   96999956.0\n",
            "2024-04-15  170.240  170.6900  161.3800    161.48  100245310.0\n",
            "2024-04-12  172.340  173.8099  170.3644    171.05   64722669.0\n",
            "2024-04-11  172.550  175.8800  168.5100    174.60   94515987.0\n",
            "2024-04-10  173.040  174.9300  170.0100    171.76   84532407.0\n",
            "...             ...       ...       ...       ...          ...\n",
            "2010-07-06   20.000   20.0000   15.8300     16.11    6866900.0\n",
            "2010-07-02   23.000   23.1000   18.7100     19.20    5139800.0\n",
            "2010-07-01   25.000   25.9200   20.2700     21.96    8218800.0\n",
            "2010-06-30   25.790   30.4192   23.3000     23.83   17187100.0\n",
            "2010-06-29   19.000   25.0000   17.5400     23.89   18766300.0\n",
            "\n",
            "[3473 rows x 5 columns], 'JNJ':             1. open  2. high   3. low  4. close   5. volume\n",
            "date                                                       \n",
            "2024-04-16   145.01  146.250  143.390    144.45  12774859.0\n",
            "2024-04-15   148.37  149.490  147.370    147.59   8502266.0\n",
            "2024-04-12   148.06  149.065  147.150    147.52   7100178.0\n",
            "2024-04-11   150.80  150.870  148.390    148.79   8374434.0\n",
            "2024-04-10   151.53  151.820  149.760    150.20   6809519.0\n",
            "...             ...      ...      ...       ...         ...\n",
            "2010-07-06    59.50   59.600   58.669     59.08  15461100.0\n",
            "2010-07-02    59.42   59.590   58.850     59.08  10534400.0\n",
            "2010-07-01    59.07   59.250   58.650     59.07  17973500.0\n",
            "2010-06-30    59.04   59.610   58.940     59.06  15802100.0\n",
            "2010-06-29    58.98   59.420   58.680     59.24  20236500.0\n",
            "\n",
            "[3473 rows x 5 columns], 'KO':             1. open  2. high  3. low  4. close   5. volume\n",
            "date                                                      \n",
            "2024-04-16    58.25   58.380  57.930     58.06  11236839.0\n",
            "2024-04-15    58.61   58.805  58.040     58.14  12425049.0\n",
            "2024-04-12    58.95   59.010  58.130     58.28  12250949.0\n",
            "2024-04-11    59.15   59.370  58.785     59.05  11109007.0\n",
            "2024-04-10    59.32   59.390  58.690     58.92  11861881.0\n",
            "...             ...      ...     ...       ...         ...\n",
            "2010-07-06    50.59   50.680  50.020     50.43   9169100.0\n",
            "2010-07-02    50.22   50.460  49.850     50.05   8135100.0\n",
            "2010-07-01    50.30   50.300  49.470     50.03  13015400.0\n",
            "2010-06-30    50.38   50.580  50.010     50.12  10966900.0\n",
            "2010-06-29    50.58   50.950  50.100     50.33  11751300.0\n",
            "\n",
            "[3473 rows x 5 columns]}\n"
          ]
        }
      ],
      "source": [
        "# Consider data only from when TSLA is not NaN\n",
        "tesla_dates = data['TSLA'].index\n",
        "\n",
        "filtered_data = {}\n",
        "for symbol in symbols:\n",
        "    filtered_data[symbol] = data[symbol].loc[tesla_dates]\n",
        "print(filtered_data)"
      ]
    },
    {
      "cell_type": "code",
      "execution_count": null,
      "id": "ae00bc74",
      "metadata": {
        "colab": {
          "base_uri": "https://localhost:8080/",
          "height": 316
        },
        "id": "ae00bc74",
        "outputId": "3d37ee50-02f9-4d53-d996-fdd5ddb50004"
      },
      "outputs": [
        {
          "data": {
            "image/png": "[encoded data removed]",
            "text/plain": [
              "<Figure size 1000x300 with 3 Axes>"
            ]
          },
          "metadata": {},
          "output_type": "display_data"
        }
      ],
      "source": [
        "# Plot the data\n",
        "import matplotlib.pyplot as plt\n",
        "\n",
        "fig, axs = plt.subplots(1, 3, figsize=(10, 3), sharey=True)\n",
        "colors = ['blue', 'green', 'red']\n",
        "\n",
        "for i, symbol in enumerate(symbols):\n",
        "    axs[i].plot(filtered_data[symbol].index, filtered_data[symbol]['4. close'], color=colors[i], label=symbol)\n",
        "    axs[i].set_xlabel('Date')\n",
        "    axs[i].grid(True)\n",
        "    axs[i].legend()\n",
        "plt.ylabel('Price (USD)')\n",
        "plt.suptitle('Daily Prices of Stocks')\n",
        "plt.tight_layout()\n",
        "plt.show()"
      ]
    },
    {
      "cell_type": "markdown",
      "id": "ymFlgyHOr-Wm",
      "metadata": {
        "id": "ymFlgyHOr-Wm"
      },
      "source": [
        "# Correlation between the stocks"
      ]
    },
    {
      "cell_type": "code",
      "execution_count": null,
      "id": "aW0O8Or3piRy",
      "metadata": {
        "id": "aW0O8Or3piRy"
      },
      "outputs": [],
      "source": [
        "# Calculate the returns\n",
        "returns = {}\n",
        "for symbol in symbols:\n",
        "    filtered_data[symbol]['Return'] = filtered_data[symbol]['4. close'].pct_change()\n",
        "    returns[symbol] = filtered_data[symbol]['Return']\n",
        "\n",
        "returns_df = pd.DataFrame(returns)"
      ]
    },
    {
      "cell_type": "code",
      "execution_count": null,
      "id": "tf2NjtebsqTw",
      "metadata": {
        "id": "tf2NjtebsqTw"
      },
      "outputs": [],
      "source": [
        "# Calculate correlation matrix\n",
        "correlation_matrix = returns_df.corr()"
      ]
    },
    {
      "cell_type": "code",
      "execution_count": null,
      "id": "fE27QAupu_66",
      "metadata": {
        "colab": {
          "base_uri": "https://localhost:8080/",
          "height": 314
        },
        "id": "fE27QAupu_66",
        "outputId": "b0ee774a-ab3f-4936-adfe-7bb16e03d1c1"
      },
      "outputs": [
        {
          "data": {
            "image/png": "[encoded data removed]",
            "text/plain": [
              "<Figure size 400x300 with 2 Axes>"
            ]
          },
          "metadata": {},
          "output_type": "display_data"
        }
      ],
      "source": [
        "import numpy as np\n",
        "import matplotlib.pyplot as plt\n",
        "\n",
        "# Plot the correlation matrix\n",
        "plt.figure(figsize=(4, 3))\n",
        "plt.imshow(correlation_matrix, cmap='Blues', interpolation='nearest')\n",
        "\n",
        "for i in range(len(symbols)):\n",
        "    for j in range(len(symbols)):\n",
        "        plt.text(j, i, '{:.4f}'.format(correlation_matrix.values[i, j]), horizontalalignment='center', verticalalignment='center')\n",
        "\n",
        "plt.colorbar()\n",
        "plt.title('Correlation Matrix of Stock Returns')\n",
        "plt.xticks(range(len(symbols)), symbols)\n",
        "plt.yticks(range(len(symbols)), symbols)\n",
        "plt.show()"
      ]
    },
    {
      "cell_type": "markdown",
      "id": "feb3nNJfwzwF",
      "metadata": {
        "id": "feb3nNJfwzwF"
      },
      "source": [
        "# Portfolio Optimization - Minimum Variance Portfolio"
      ]
    },
    {
      "cell_type": "code",
      "execution_count": null,
      "id": "d51Zdd68xBJa",
      "metadata": {
        "colab": {
          "base_uri": "https://localhost:8080/"
        },
        "id": "d51Zdd68xBJa",
        "outputId": "b9d78927-1f62-4cc4-f6c8-b901b3d277f8"
      },
      "outputs": [
        {
          "name": "stdout",
          "output_type": "stream",
          "text": [
            "Weight for TSLA: 0.008727209043414036\n",
            "Weight for JNJ: 0.8593503876701679\n",
            "Weight for KO: 0.13192240328641805\n"
          ]
        }
      ],
      "source": [
        "# Find weights for minimum variance portfolio\n",
        "import numpy as np\n",
        "\n",
        "covariance_matrix = returns_df.cov()\n",
        "expected_returns = returns_df.mean()\n",
        "e = np.array([1,1,1])\n",
        "\n",
        "weights = (np.linalg.inv(covariance_matrix) @ e)/(np.transpose(e) @ np.linalg.inv(covariance_matrix) @ e)\n",
        "\n",
        "for symbol, weight in zip(symbols, weights):\n",
        "    print(f\"Weight for {symbol}: {weight}\")"
      ]
    },
    {
      "cell_type": "code",
      "execution_count": null,
      "id": "RWF2-p1L10Js",
      "metadata": {
        "colab": {
          "base_uri": "https://localhost:8080/"
        },
        "id": "RWF2-p1L10Js",
        "outputId": "eb4f2929-ced0-4ffd-f40e-77e66d0b97ea"
      },
      "outputs": [
        {
          "name": "stdout",
          "output_type": "stream",
          "text": [
            "Expected return of portfolio:  -0.0001496869034174549\n"
          ]
        }
      ],
      "source": [
        "# Find expected return of portfolio\n",
        "\n",
        "portfolio_returns = returns_df.dot(weights.reshape(-1,1))\n",
        "expected_returns_portfolio = np.mean(portfolio_returns)\n",
        "print(\"Expected return of portfolio: \",expected_returns_portfolio)"
      ]
    },
    {
      "cell_type": "markdown",
      "id": "IDpjEo673PSq",
      "metadata": {
        "id": "IDpjEo673PSq"
      },
      "source": [
        "# Historical Methods"
      ]
    },
    {
      "cell_type": "code",
      "execution_count": null,
      "id": "r6vA_nQJ4JVF",
      "metadata": {
        "id": "r6vA_nQJ4JVF"
      },
      "outputs": [],
      "source": [
        "# Computing losses\n",
        "import pandas as pd\n",
        "import numpy as np\n",
        "import matplotlib.pyplot as plt\n",
        "from scipy.stats import norm\n",
        "from scipy.optimize import curve_fit\n",
        "\n",
        "losses = -portfolio_returns\n",
        "losses = losses.dropna()"
      ]
    },
    {
      "cell_type": "code",
      "execution_count": null,
      "id": "0rTv1EQfVlJS",
      "metadata": {
        "colab": {
          "base_uri": "https://localhost:8080/"
        },
        "id": "0rTv1EQfVlJS",
        "outputId": "d73fa687-1bca-4961-89b2-ed1e018eea7f"
      },
      "outputs": [
        {
          "name": "stdout",
          "output_type": "stream",
          "text": [
            "VaR at 99.0% confidence level: [0.02447366]\n",
            "Expected Shortfall at 99.0% confidence level: 0.03837255274489254\n"
          ]
        }
      ],
      "source": [
        "# Find the VaR and ES using ordered statistic approach\n",
        "sorted_losses = np.sort(losses.values, axis=0)\n",
        "confidence_level = 0.99\n",
        "\n",
        "var_index = len(sorted_losses)-int(np.floor((1 - confidence_level) * len(sorted_losses)))\n",
        "var_ordered_statistic = sorted_losses[var_index]\n",
        "\n",
        "exceedances = sorted_losses[var_index:]\n",
        "es_ordered_statistic = np.mean(exceedances)\n",
        "\n",
        "print(f\"VaR at {confidence_level * 100}% confidence level: {var_ordered_statistic}\")\n",
        "print(f\"Expected Shortfall at {confidence_level * 100}% confidence level: {es_ordered_statistic}\")"
      ]
    },
    {
      "cell_type": "markdown",
      "id": "pDC8BBXcfnvB",
      "metadata": {
        "id": "pDC8BBXcfnvB"
      },
      "source": [
        "# Gaussian VaR and ES: Covariance Model"
      ]
    },
    {
      "cell_type": "code",
      "execution_count": null,
      "id": "4ndWd5AKgBHJ",
      "metadata": {
        "colab": {
          "base_uri": "https://localhost:8080/"
        },
        "id": "4ndWd5AKgBHJ",
        "outputId": "0f43cf3c-997d-4c4e-8cf7-38d65b7e900b"
      },
      "outputs": [
        {
          "name": "stdout",
          "output_type": "stream",
          "text": [
            "VaR at 99.0% confidence level: 0.023969085891080433\n",
            "Expected Shortfall at 99.0% confidence level: 0.027460531281004827\n"
          ]
        }
      ],
      "source": [
        "from scipy.stats import norm\n",
        "import math\n",
        "import warnings\n",
        "\n",
        "warnings.filterwarnings('ignore', category=FutureWarning)\n",
        "\n",
        "phi_inverse = norm.ppf(confidence_level)\n",
        "\n",
        "var_gaussian = phi_inverse*(math.sqrt(np.var(losses)))\n",
        "es_gaussian = (np.exp(-0.5 * phi_inverse**2) / (np.sqrt(2 * np.pi)*(1-confidence_level)))*(math.sqrt(np.var(losses)))\n",
        "\n",
        "print(f\"VaR at {confidence_level * 100}% confidence level: {var_gaussian}\")\n",
        "print(f\"Expected Shortfall at {confidence_level * 100}% confidence level: {es_gaussian}\")"
      ]
    },
    {
      "cell_type": "code",
      "execution_count": null,
      "id": "8nD0QKGcb14U",
      "metadata": {
        "colab": {
          "base_uri": "https://localhost:8080/",
          "height": 410
        },
        "id": "8nD0QKGcb14U",
        "outputId": "4ccf0ac7-f05e-4779-de05-7527a56ddea5"
      },
      "outputs": [
        {
          "data": {
            "image/png": "[encoded data removed]",
            "text/plain": [
              "<Figure size 600x400 with 1 Axes>"
            ]
          },
          "metadata": {},
          "output_type": "display_data"
        }
      ],
      "source": [
        "# Plotting\n",
        "plt.figure(figsize=(6,4))\n",
        "plt.hist(losses,bins=300)\n",
        "\n",
        "plt.axvline(x=var_ordered_statistic, color='g', linestyle='--', label=f'VaR using ordered statistic approach')\n",
        "plt.axvline(x=var_gaussian, color='r', linestyle='--', label=f'VaR using gaussian model approach')\n",
        "\n",
        "plt.title('Asset Loss Distribution')\n",
        "plt.xlabel('Loss')\n",
        "plt.ylabel('Density')\n",
        "plt.xlim(-0.04, 0.04)\n",
        "plt.grid(True)\n",
        "plt.legend()\n",
        "plt.show()"
      ]
    },
    {
      "cell_type": "markdown",
      "id": "Lttje9QVn-du",
      "metadata": {
        "id": "Lttje9QVn-du"
      },
      "source": [
        "# Timeseries forecasting\n",
        "- FB Prophet\n",
        "- LSTM"
      ]
    },
    {
      "cell_type": "code",
      "execution_count": null,
      "id": "uqX_m5-Iogzy",
      "metadata": {
        "colab": {
          "base_uri": "https://localhost:8080/"
        },
        "id": "uqX_m5-Iogzy",
        "outputId": "1a04c2ad-e27d-4a7d-ae94-b84245fdaeec"
      },
      "outputs": [
        {
          "name": "stdout",
          "output_type": "stream",
          "text": [
            "Requirement already satisfied: prophet in /usr/local/lib/python3.10/dist-packages (1.1.5)\n",
            "Requirement already satisfied: cmdstanpy>=1.0.4 in /usr/local/lib/python3.10/dist-packages (from prophet) (1.2.2)\n",
            "Requirement already satisfied: numpy>=1.15.4 in /usr/local/lib/python3.10/dist-packages (from prophet) (1.25.2)\n",
            "Requirement already satisfied: matplotlib>=2.0.0 in /usr/local/lib/python3.10/dist-packages (from prophet) (3.7.1)\n",
            "Requirement already satisfied: pandas>=1.0.4 in /usr/local/lib/python3.10/dist-packages (from prophet) (2.0.3)\n",
            "Requirement already satisfied: holidays>=0.25 in /usr/local/lib/python3.10/dist-packages (from prophet) (0.46)\n",
            "Requirement already satisfied: tqdm>=4.36.1 in /usr/local/lib/python3.10/dist-packages (from prophet) (4.66.2)\n",
            "Requirement already satisfied: importlib-resources in /usr/local/lib/python3.10/dist-packages (from prophet) (6.4.0)\n",
            "Requirement already satisfied: stanio<2.0.0,>=0.4.0 in /usr/local/lib/python3.10/dist-packages (from cmdstanpy>=1.0.4->prophet) (0.5.0)\n",
            "Requirement already satisfied: python-dateutil in /usr/local/lib/python3.10/dist-packages (from holidays>=0.25->prophet) (2.8.2)\n",
            "Requirement already satisfied: contourpy>=1.0.1 in /usr/local/lib/python3.10/dist-packages (from matplotlib>=2.0.0->prophet) (1.2.1)\n",
            "Requirement already satisfied: cycler>=0.10 in /usr/local/lib/python3.10/dist-packages (from matplotlib>=2.0.0->prophet) (0.12.1)\n",
            "Requirement already satisfied: fonttools>=4.22.0 in /usr/local/lib/python3.10/dist-packages (from matplotlib>=2.0.0->prophet) (4.51.0)\n",
            "Requirement already satisfied: kiwisolver>=1.0.1 in /usr/local/lib/python3.10/dist-packages (from matplotlib>=2.0.0->prophet) (1.4.5)\n",
            "Requirement already satisfied: packaging>=20.0 in /usr/local/lib/python3.10/dist-packages (from matplotlib>=2.0.0->prophet) (24.0)\n",
            "Requirement already satisfied: pillow>=6.2.0 in /usr/local/lib/python3.10/dist-packages (from matplotlib>=2.0.0->prophet) (9.4.0)\n",
            "Requirement already satisfied: pyparsing>=2.3.1 in /usr/local/lib/python3.10/dist-packages (from matplotlib>=2.0.0->prophet) (3.1.2)\n",
            "Requirement already satisfied: pytz>=2020.1 in /usr/local/lib/python3.10/dist-packages (from pandas>=1.0.4->prophet) (2023.4)\n",
            "Requirement already satisfied: tzdata>=2022.1 in /usr/local/lib/python3.10/dist-packages (from pandas>=1.0.4->prophet) (2024.1)\n",
            "Requirement already satisfied: six>=1.5 in /usr/local/lib/python3.10/dist-packages (from python-dateutil->holidays>=0.25->prophet) (1.16.0)\n"
          ]
        }
      ],
      "source": [
        "!python -m pip install prophet"
      ]
    },
    {
      "cell_type": "code",
      "execution_count": null,
      "id": "b7772c58",
      "metadata": {
        "id": "b7772c58"
      },
      "outputs": [],
      "source": [
        "# Prepare Portfolio data\n",
        "import pandas as pd\n",
        "from prophet import Prophet\n",
        "\n",
        "portfolio_returns=portfolio_returns.dropna()\n",
        "portfolio_returns['ds'] = portfolio_returns.index\n",
        "portfolio_returns.rename(columns={0:'y'}, inplace=True)\n",
        "\n",
        "tsla_df = portfolio_returns[['ds', 'y']]"
      ]
    },
    {
      "cell_type": "code",
      "execution_count": null,
      "id": "Vl8uCCEVqdAn",
      "metadata": {
        "colab": {
          "base_uri": "https://localhost:8080/"
        },
        "id": "Vl8uCCEVqdAn",
        "outputId": "461d2341-c620-45f8-b1fe-4ac601842cc0"
      },
      "outputs": [
        {
          "name": "stderr",
          "output_type": "stream",
          "text": [
            "INFO:prophet:Disabling daily seasonality. Run prophet with daily_seasonality=True to override this.\n",
            "DEBUG:cmdstanpy:input tempfile: /tmp/tmput7pq5sg/j8p23cz4.json\n",
            "DEBUG:cmdstanpy:input tempfile: /tmp/tmput7pq5sg/zxxcem5i.json\n",
            "DEBUG:cmdstanpy:idx 0\n",
            "DEBUG:cmdstanpy:running CmdStan, num_threads: None\n",
            "DEBUG:cmdstanpy:CmdStan args: ['/usr/local/lib/python3.10/dist-packages/prophet/stan_model/prophet_model.bin', 'random', 'seed=62440', 'data', 'file=/tmp/tmput7pq5sg/j8p23cz4.json', 'init=/tmp/tmput7pq5sg/zxxcem5i.json', 'output', 'file=/tmp/tmput7pq5sg/prophet_model0kx_qm2y/prophet_model-20240417030558.csv', 'method=optimize', 'algorithm=lbfgs', 'iter=10000']\n",
            "03:05:58 - cmdstanpy - INFO - Chain [1] start processing\n",
            "INFO:cmdstanpy:Chain [1] start processing\n",
            "03:05:59 - cmdstanpy - INFO - Chain [1] done processing\n",
            "INFO:cmdstanpy:Chain [1] done processing\n"
          ]
        }
      ],
      "source": [
        "# Create and fit Prophet model\n",
        "model = Prophet()\n",
        "model.fit(tsla_df)\n",
        "\n",
        "future = model.make_future_dataframe(periods=90)\n",
        "future = future.tail(90)\n",
        "\n",
        "forecast = model.predict(future)\n",
        "forecast = forecast[['ds', 'yhat', 'yhat_lower', 'yhat_upper']]"
      ]
    },
    {
      "cell_type": "code",
      "execution_count": null,
      "id": "eatf3OqqryW9",
      "metadata": {
        "colab": {
          "base_uri": "https://localhost:8080/"
        },
        "id": "eatf3OqqryW9",
        "outputId": "9f8bf094-f30f-4f20-bb43-e9eb0fe4b246"
      },
      "outputs": [
        {
          "name": "stdout",
          "output_type": "stream",
          "text": [
            "Root Mean Squared Error (RMSE): 0.007698034301263845\n"
          ]
        }
      ],
      "source": [
        "# Calculate RMSE\n",
        "from sklearn.metrics import mean_squared_error\n",
        "import numpy as np\n",
        "\n",
        "actual_values = tsla_df['y'].values[-90:]\n",
        "\n",
        "predicted_values = forecast['yhat'].values[-len(actual_values):]\n",
        "rmse = np.sqrt(mean_squared_error(actual_values, predicted_values))\n",
        "\n",
        "print(\"Root Mean Squared Error (RMSE):\", rmse)"
      ]
    },
    {
      "cell_type": "code",
      "execution_count": null,
      "id": "dJ-iEKrpCsuD",
      "metadata": {
        "colab": {
          "base_uri": "https://localhost:8080/"
        },
        "id": "dJ-iEKrpCsuD",
        "outputId": "a1b8bc8d-1b90-4f02-cfb0-8f84cb3c3cc6"
      },
      "outputs": [
        {
          "name": "stdout",
          "output_type": "stream",
          "text": [
            "Requirement already satisfied: tensorflow in /usr/local/lib/python3.10/dist-packages (2.15.0)\n",
            "Requirement already satisfied: absl-py>=1.0.0 in /usr/local/lib/python3.10/dist-packages (from tensorflow) (1.4.0)\n",
            "Requirement already satisfied: astunparse>=1.6.0 in /usr/local/lib/python3.10/dist-packages (from tensorflow) (1.6.3)\n",
            "Requirement already satisfied: flatbuffers>=23.5.26 in /usr/local/lib/python3.10/dist-packages (from tensorflow) (24.3.25)\n",
            "Requirement already satisfied: gast!=0.5.0,!=0.5.1,!=0.5.2,>=0.2.1 in /usr/local/lib/python3.10/dist-packages (from tensorflow) (0.5.4)\n",
            "Requirement already satisfied: google-pasta>=0.1.1 in /usr/local/lib/python3.10/dist-packages (from tensorflow) (0.2.0)\n",
            "Requirement already satisfied: h5py>=2.9.0 in /usr/local/lib/python3.10/dist-packages (from tensorflow) (3.9.0)\n",
            "Requirement already satisfied: libclang>=13.0.0 in /usr/local/lib/python3.10/dist-packages (from tensorflow) (18.1.1)\n",
            "Requirement already satisfied: ml-dtypes~=0.2.0 in /usr/local/lib/python3.10/dist-packages (from tensorflow) (0.2.0)\n",
            "Requirement already satisfied: numpy<2.0.0,>=1.23.5 in /usr/local/lib/python3.10/dist-packages (from tensorflow) (1.25.2)\n",
            "Requirement already satisfied: opt-einsum>=2.3.2 in /usr/local/lib/python3.10/dist-packages (from tensorflow) (3.3.0)\n",
            "Requirement already satisfied: packaging in /usr/local/lib/python3.10/dist-packages (from tensorflow) (24.0)\n",
            "Requirement already satisfied: protobuf!=4.21.0,!=4.21.1,!=4.21.2,!=4.21.3,!=4.21.4,!=4.21.5,<5.0.0dev,>=3.20.3 in /usr/local/lib/python3.10/dist-packages (from tensorflow) (3.20.3)\n",
            "Requirement already satisfied: setuptools in /usr/local/lib/python3.10/dist-packages (from tensorflow) (67.7.2)\n",
            "Requirement already satisfied: six>=1.12.0 in /usr/local/lib/python3.10/dist-packages (from tensorflow) (1.16.0)\n",
            "Requirement already satisfied: termcolor>=1.1.0 in /usr/local/lib/python3.10/dist-packages (from tensorflow) (2.4.0)\n",
            "Requirement already satisfied: typing-extensions>=3.6.6 in /usr/local/lib/python3.10/dist-packages (from tensorflow) (4.11.0)\n",
            "Requirement already satisfied: wrapt<1.15,>=1.11.0 in /usr/local/lib/python3.10/dist-packages (from tensorflow) (1.14.1)\n",
            "Requirement already satisfied: tensorflow-io-gcs-filesystem>=0.23.1 in /usr/local/lib/python3.10/dist-packages (from tensorflow) (0.36.0)\n",
            "Requirement already satisfied: grpcio<2.0,>=1.24.3 in /usr/local/lib/python3.10/dist-packages (from tensorflow) (1.62.1)\n",
            "Requirement already satisfied: tensorboard<2.16,>=2.15 in /usr/local/lib/python3.10/dist-packages (from tensorflow) (2.15.2)\n",
            "Requirement already satisfied: tensorflow-estimator<2.16,>=2.15.0 in /usr/local/lib/python3.10/dist-packages (from tensorflow) (2.15.0)\n",
            "Requirement already satisfied: keras<2.16,>=2.15.0 in /usr/local/lib/python3.10/dist-packages (from tensorflow) (2.15.0)\n",
            "Requirement already satisfied: wheel<1.0,>=0.23.0 in /usr/local/lib/python3.10/dist-packages (from astunparse>=1.6.0->tensorflow) (0.43.0)\n",
            "Requirement already satisfied: google-auth<3,>=1.6.3 in /usr/local/lib/python3.10/dist-packages (from tensorboard<2.16,>=2.15->tensorflow) (2.27.0)\n",
            "Requirement already satisfied: google-auth-oauthlib<2,>=0.5 in /usr/local/lib/python3.10/dist-packages (from tensorboard<2.16,>=2.15->tensorflow) (1.2.0)\n",
            "Requirement already satisfied: markdown>=2.6.8 in /usr/local/lib/python3.10/dist-packages (from tensorboard<2.16,>=2.15->tensorflow) (3.6)\n",
            "Requirement already satisfied: requests<3,>=2.21.0 in /usr/local/lib/python3.10/dist-packages (from tensorboard<2.16,>=2.15->tensorflow) (2.31.0)\n",
            "Requirement already satisfied: tensorboard-data-server<0.8.0,>=0.7.0 in /usr/local/lib/python3.10/dist-packages (from tensorboard<2.16,>=2.15->tensorflow) (0.7.2)\n",
            "Requirement already satisfied: werkzeug>=1.0.1 in /usr/local/lib/python3.10/dist-packages (from tensorboard<2.16,>=2.15->tensorflow) (3.0.2)\n",
            "Requirement already satisfied: cachetools<6.0,>=2.0.0 in /usr/local/lib/python3.10/dist-packages (from google-auth<3,>=1.6.3->tensorboard<2.16,>=2.15->tensorflow) (5.3.3)\n",
            "Requirement already satisfied: pyasn1-modules>=0.2.1 in /usr/local/lib/python3.10/dist-packages (from google-auth<3,>=1.6.3->tensorboard<2.16,>=2.15->tensorflow) (0.4.0)\n",
            "Requirement already satisfied: rsa<5,>=3.1.4 in /usr/local/lib/python3.10/dist-packages (from google-auth<3,>=1.6.3->tensorboard<2.16,>=2.15->tensorflow) (4.9)\n",
            "Requirement already satisfied: requests-oauthlib>=0.7.0 in /usr/local/lib/python3.10/dist-packages (from google-auth-oauthlib<2,>=0.5->tensorboard<2.16,>=2.15->tensorflow) (1.3.1)\n",
            "Requirement already satisfied: charset-normalizer<4,>=2 in /usr/local/lib/python3.10/dist-packages (from requests<3,>=2.21.0->tensorboard<2.16,>=2.15->tensorflow) (3.3.2)\n",
            "Requirement already satisfied: idna<4,>=2.5 in /usr/local/lib/python3.10/dist-packages (from requests<3,>=2.21.0->tensorboard<2.16,>=2.15->tensorflow) (3.6)\n",
            "Requirement already satisfied: urllib3<3,>=1.21.1 in /usr/local/lib/python3.10/dist-packages (from requests<3,>=2.21.0->tensorboard<2.16,>=2.15->tensorflow) (2.0.7)\n",
            "Requirement already satisfied: certifi>=2017.4.17 in /usr/local/lib/python3.10/dist-packages (from requests<3,>=2.21.0->tensorboard<2.16,>=2.15->tensorflow) (2024.2.2)\n",
            "Requirement already satisfied: MarkupSafe>=2.1.1 in /usr/local/lib/python3.10/dist-packages (from werkzeug>=1.0.1->tensorboard<2.16,>=2.15->tensorflow) (2.1.5)\n",
            "Requirement already satisfied: pyasn1<0.7.0,>=0.4.6 in /usr/local/lib/python3.10/dist-packages (from pyasn1-modules>=0.2.1->google-auth<3,>=1.6.3->tensorboard<2.16,>=2.15->tensorflow) (0.6.0)\n",
            "Requirement already satisfied: oauthlib>=3.0.0 in /usr/local/lib/python3.10/dist-packages (from requests-oauthlib>=0.7.0->google-auth-oauthlib<2,>=0.5->tensorboard<2.16,>=2.15->tensorflow) (3.2.2)\n"
          ]
        }
      ],
      "source": [
        "!pip install tensorflow"
      ]
    },
    {
      "cell_type": "code",
      "execution_count": null,
      "id": "rkvjqhitBn1G",
      "metadata": {
        "id": "rkvjqhitBn1G"
      },
      "outputs": [],
      "source": [
        "# Prepare data for LSTM\n",
        "import numpy as np\n",
        "import pandas as pd\n",
        "from sklearn.preprocessing import MinMaxScaler\n",
        "from tensorflow.keras.models import Sequential\n",
        "from tensorflow.keras.layers import LSTM, Bidirectional, Dense\n",
        "from sklearn.metrics import mean_squared_error\n",
        "\n",
        "scaler = MinMaxScaler(feature_range=(0, 1))\n",
        "scaled_data = scaler.fit_transform(tsla_df['y'].values.reshape(-1, 1))\n",
        "\n",
        "def create_dataset(data, time_steps):\n",
        "    X, y = [], []\n",
        "    for i in range(len(data) - time_steps):\n",
        "        X.append(data[i:(i + time_steps), 0])\n",
        "        y.append(data[i + time_steps, 0])\n",
        "    return np.array(X), np.array(y)\n",
        "\n",
        "time_steps = 10\n",
        "X, y = create_dataset(scaled_data, time_steps)\n",
        "X = X.reshape(X.shape[0], X.shape[1], 1)"
      ]
    },
    {
      "cell_type": "code",
      "execution_count": null,
      "id": "c1-ZJQtXCrFr",
      "metadata": {
        "id": "c1-ZJQtXCrFr"
      },
      "outputs": [],
      "source": [
        "# Split into test-train sets\n",
        "test_days = 90\n",
        "split = len(X) - test_days\n",
        "X_train, X_test = X[:split], X[split:]\n",
        "y_train, y_test = y[:split], y[split:]"
      ]
    },
    {
      "cell_type": "code",
      "execution_count": null,
      "id": "9dkYx95WDKJk",
      "metadata": {
        "id": "9dkYx95WDKJk"
      },
      "outputs": [],
      "source": [
        "# Build the Bidirectional LSTM model\n",
        "model = Sequential()\n",
        "model.add(Bidirectional(LSTM(units=50, return_sequences=True), input_shape=(X_train.shape[1], 1)))\n",
        "model.add(Bidirectional(LSTM(units=50)))\n",
        "model.add(Dense(units=1))\n",
        "model.compile(optimizer='adam', loss='mean_squared_error')"
      ]
    },
    {
      "cell_type": "code",
      "execution_count": null,
      "id": "XC2NafPzDaz1",
      "metadata": {
        "colab": {
          "base_uri": "https://localhost:8080/"
        },
        "id": "XC2NafPzDaz1",
        "outputId": "cf08a5bb-0d01-41c0-ac1e-c88657ad0470"
      },
      "outputs": [
        {
          "name": "stdout",
          "output_type": "stream",
          "text": [
            "Epoch 1/200\n",
            "106/106 [==============================] - 3s 29ms/step - loss: 0.0026\n",
            "Epoch 2/200\n",
            "106/106 [==============================] - 3s 28ms/step - loss: 0.0026\n",
            "Epoch 3/200\n",
            "106/106 [==============================] - 2s 17ms/step - loss: 0.0026\n",
            "Epoch 4/200\n",
            "106/106 [==============================] - 2s 18ms/step - loss: 0.0026\n",
            "Epoch 5/200\n",
            "106/106 [==============================] - 2s 18ms/step - loss: 0.0026\n",
            "Epoch 6/200\n",
            "106/106 [==============================] - 2s 18ms/step - loss: 0.0026\n",
            "Epoch 7/200\n",
            "106/106 [==============================] - 2s 18ms/step - loss: 0.0026\n",
            "Epoch 8/200\n",
            "106/106 [==============================] - 3s 29ms/step - loss: 0.0026\n",
            "Epoch 9/200\n",
            "106/106 [==============================] - 2s 18ms/step - loss: 0.0026\n",
            "Epoch 10/200\n",
            "106/106 [==============================] - 2s 18ms/step - loss: 0.0026\n",
            "Epoch 11/200\n",
            "106/106 [==============================] - 2s 18ms/step - loss: 0.0026\n",
            "Epoch 12/200\n",
            "106/106 [==============================] - 2s 18ms/step - loss: 0.0026\n",
            "Epoch 13/200\n",
            "106/106 [==============================] - 2s 17ms/step - loss: 0.0026\n",
            "Epoch 14/200\n",
            "106/106 [==============================] - 3s 29ms/step - loss: 0.0026\n",
            "Epoch 15/200\n",
            "106/106 [==============================] - 2s 18ms/step - loss: 0.0026\n",
            "Epoch 16/200\n",
            "106/106 [==============================] - 2s 17ms/step - loss: 0.0026\n",
            "Epoch 17/200\n",
            "106/106 [==============================] - 2s 18ms/step - loss: 0.0026\n",
            "Epoch 18/200\n",
            "106/106 [==============================] - 2s 18ms/step - loss: 0.0026\n",
            "Epoch 19/200\n",
            "106/106 [==============================] - 2s 17ms/step - loss: 0.0026\n",
            "Epoch 20/200\n",
            "106/106 [==============================] - 3s 27ms/step - loss: 0.0026\n",
            "Epoch 21/200\n",
            "106/106 [==============================] - 2s 20ms/step - loss: 0.0026\n",
            "Epoch 22/200\n",
            "106/106 [==============================] - 2s 18ms/step - loss: 0.0026\n",
            "Epoch 23/200\n",
            "106/106 [==============================] - 2s 18ms/step - loss: 0.0026\n",
            "Epoch 24/200\n",
            "106/106 [==============================] - 2s 18ms/step - loss: 0.0026\n",
            "Epoch 25/200\n",
            "106/106 [==============================] - 2s 18ms/step - loss: 0.0026\n",
            "Epoch 26/200\n",
            "106/106 [==============================] - 3s 25ms/step - loss: 0.0026\n",
            "Epoch 27/200\n",
            "106/106 [==============================] - 2s 21ms/step - loss: 0.0026\n",
            "Epoch 28/200\n",
            "106/106 [==============================] - 2s 17ms/step - loss: 0.0026\n",
            "Epoch 29/200\n",
            "106/106 [==============================] - 2s 18ms/step - loss: 0.0026\n",
            "Epoch 30/200\n",
            "106/106 [==============================] - 2s 18ms/step - loss: 0.0026\n",
            "Epoch 31/200\n",
            "106/106 [==============================] - 3s 27ms/step - loss: 0.0026\n",
            "Epoch 32/200\n",
            "106/106 [==============================] - 3s 32ms/step - loss: 0.0026\n",
            "Epoch 33/200\n",
            "106/106 [==============================] - 2s 18ms/step - loss: 0.0026\n",
            "Epoch 34/200\n",
            "106/106 [==============================] - 2s 18ms/step - loss: 0.0026\n",
            "Epoch 35/200\n",
            "106/106 [==============================] - 2s 18ms/step - loss: 0.0026\n",
            "Epoch 36/200\n",
            "106/106 [==============================] - 2s 18ms/step - loss: 0.0026\n",
            "Epoch 37/200\n",
            "106/106 [==============================] - 2s 18ms/step - loss: 0.0026\n",
            "Epoch 38/200\n",
            "106/106 [==============================] - 3s 29ms/step - loss: 0.0026\n",
            "Epoch 39/200\n",
            "106/106 [==============================] - 2s 18ms/step - loss: 0.0025\n",
            "Epoch 40/200\n",
            "106/106 [==============================] - 2s 18ms/step - loss: 0.0026\n",
            "Epoch 41/200\n",
            "106/106 [==============================] - 2s 18ms/step - loss: 0.0026\n",
            "Epoch 42/200\n",
            "106/106 [==============================] - 2s 18ms/step - loss: 0.0025\n",
            "Epoch 43/200\n",
            "106/106 [==============================] - 2s 18ms/step - loss: 0.0025\n",
            "Epoch 44/200\n",
            "106/106 [==============================] - 3s 29ms/step - loss: 0.0025\n",
            "Epoch 45/200\n",
            "106/106 [==============================] - 2s 19ms/step - loss: 0.0025\n",
            "Epoch 46/200\n",
            "106/106 [==============================] - 2s 18ms/step - loss: 0.0025\n",
            "Epoch 47/200\n",
            "106/106 [==============================] - 2s 18ms/step - loss: 0.0025\n",
            "Epoch 48/200\n",
            "106/106 [==============================] - 2s 18ms/step - loss: 0.0025\n",
            "Epoch 49/200\n",
            "106/106 [==============================] - 2s 18ms/step - loss: 0.0025\n",
            "Epoch 50/200\n",
            "106/106 [==============================] - 3s 32ms/step - loss: 0.0025\n",
            "Epoch 51/200\n",
            "106/106 [==============================] - 2s 20ms/step - loss: 0.0025\n",
            "Epoch 52/200\n",
            "106/106 [==============================] - 2s 18ms/step - loss: 0.0025\n",
            "Epoch 53/200\n",
            "106/106 [==============================] - 2s 18ms/step - loss: 0.0025\n",
            "Epoch 54/200\n",
            "106/106 [==============================] - 2s 17ms/step - loss: 0.0025\n",
            "Epoch 55/200\n",
            "106/106 [==============================] - 2s 18ms/step - loss: 0.0025\n",
            "Epoch 56/200\n",
            "106/106 [==============================] - 3s 28ms/step - loss: 0.0024\n",
            "Epoch 57/200\n",
            "106/106 [==============================] - 2s 19ms/step - loss: 0.0024\n",
            "Epoch 58/200\n",
            "106/106 [==============================] - 2s 18ms/step - loss: 0.0024\n",
            "Epoch 59/200\n",
            "106/106 [==============================] - 2s 18ms/step - loss: 0.0024\n",
            "Epoch 60/200\n",
            "106/106 [==============================] - 2s 18ms/step - loss: 0.0024\n",
            "Epoch 61/200\n",
            "106/106 [==============================] - 2s 18ms/step - loss: 0.0024\n",
            "Epoch 62/200\n",
            "106/106 [==============================] - 3s 27ms/step - loss: 0.0024\n",
            "Epoch 63/200\n",
            "106/106 [==============================] - 2s 20ms/step - loss: 0.0024\n",
            "Epoch 64/200\n",
            "106/106 [==============================] - 2s 18ms/step - loss: 0.0024\n",
            "Epoch 65/200\n",
            "106/106 [==============================] - 2s 18ms/step - loss: 0.0023\n",
            "Epoch 66/200\n",
            "106/106 [==============================] - 2s 18ms/step - loss: 0.0023\n",
            "Epoch 67/200\n",
            "106/106 [==============================] - 2s 17ms/step - loss: 0.0023\n",
            "Epoch 68/200\n",
            "106/106 [==============================] - 3s 25ms/step - loss: 0.0023\n",
            "Epoch 69/200\n",
            "106/106 [==============================] - 2s 22ms/step - loss: 0.0023\n",
            "Epoch 70/200\n",
            "106/106 [==============================] - 2s 18ms/step - loss: 0.0023\n",
            "Epoch 71/200\n",
            "106/106 [==============================] - 3s 28ms/step - loss: 0.0023\n",
            "Epoch 72/200\n",
            "106/106 [==============================] - 2s 18ms/step - loss: 0.0023\n",
            "Epoch 73/200\n",
            "106/106 [==============================] - 2s 18ms/step - loss: 0.0023\n",
            "Epoch 74/200\n",
            "106/106 [==============================] - 3s 29ms/step - loss: 0.0023\n",
            "Epoch 75/200\n",
            "106/106 [==============================] - 2s 18ms/step - loss: 0.0023\n",
            "Epoch 76/200\n",
            "106/106 [==============================] - 2s 18ms/step - loss: 0.0023\n",
            "Epoch 77/200\n",
            "106/106 [==============================] - 2s 18ms/step - loss: 0.0023\n",
            "Epoch 78/200\n",
            "106/106 [==============================] - 2s 18ms/step - loss: 0.0023\n",
            "Epoch 79/200\n",
            "106/106 [==============================] - 4s 34ms/step - loss: 0.0023\n",
            "Epoch 80/200\n",
            "106/106 [==============================] - 3s 29ms/step - loss: 0.0023\n",
            "Epoch 81/200\n",
            "106/106 [==============================] - 2s 18ms/step - loss: 0.0022\n",
            "Epoch 82/200\n",
            "106/106 [==============================] - 3s 24ms/step - loss: 0.0023\n",
            "Epoch 83/200\n",
            "106/106 [==============================] - 2s 18ms/step - loss: 0.0022\n",
            "Epoch 84/200\n",
            "106/106 [==============================] - 2s 18ms/step - loss: 0.0023\n",
            "Epoch 85/200\n",
            "106/106 [==============================] - 3s 29ms/step - loss: 0.0022\n",
            "Epoch 86/200\n",
            "106/106 [==============================] - 3s 29ms/step - loss: 0.0023\n",
            "Epoch 87/200\n",
            "106/106 [==============================] - 2s 18ms/step - loss: 0.0022\n",
            "Epoch 88/200\n",
            "106/106 [==============================] - 2s 18ms/step - loss: 0.0023\n",
            "Epoch 89/200\n",
            "106/106 [==============================] - 2s 18ms/step - loss: 0.0022\n",
            "Epoch 90/200\n",
            "106/106 [==============================] - 3s 24ms/step - loss: 0.0023\n",
            "Epoch 91/200\n",
            "106/106 [==============================] - 2s 23ms/step - loss: 0.0022\n",
            "Epoch 92/200\n",
            "106/106 [==============================] - 2s 18ms/step - loss: 0.0022\n",
            "Epoch 93/200\n",
            "106/106 [==============================] - 2s 18ms/step - loss: 0.0022\n",
            "Epoch 94/200\n",
            "106/106 [==============================] - 2s 18ms/step - loss: 0.0022\n",
            "Epoch 95/200\n",
            "106/106 [==============================] - 2s 18ms/step - loss: 0.0022\n",
            "Epoch 96/200\n",
            "106/106 [==============================] - 2s 22ms/step - loss: 0.0022\n",
            "Epoch 97/200\n",
            "106/106 [==============================] - 3s 24ms/step - loss: 0.0022\n",
            "Epoch 98/200\n",
            "106/106 [==============================] - 2s 18ms/step - loss: 0.0022\n",
            "Epoch 99/200\n",
            "106/106 [==============================] - 2s 18ms/step - loss: 0.0022\n",
            "Epoch 100/200\n",
            "106/106 [==============================] - 2s 18ms/step - loss: 0.0022\n",
            "Epoch 101/200\n",
            "106/106 [==============================] - 2s 18ms/step - loss: 0.0022\n",
            "Epoch 102/200\n",
            "106/106 [==============================] - 2s 20ms/step - loss: 0.0022\n",
            "Epoch 103/200\n",
            "106/106 [==============================] - 3s 26ms/step - loss: 0.0022\n",
            "Epoch 104/200\n",
            "106/106 [==============================] - 2s 18ms/step - loss: 0.0022\n",
            "Epoch 105/200\n",
            "106/106 [==============================] - 2s 18ms/step - loss: 0.0022\n",
            "Epoch 106/200\n",
            "106/106 [==============================] - 2s 18ms/step - loss: 0.0022\n",
            "Epoch 107/200\n",
            "106/106 [==============================] - 2s 18ms/step - loss: 0.0022\n",
            "Epoch 108/200\n",
            "106/106 [==============================] - 2s 19ms/step - loss: 0.0022\n",
            "Epoch 109/200\n",
            "106/106 [==============================] - 3s 28ms/step - loss: 0.0022\n",
            "Epoch 110/200\n",
            "106/106 [==============================] - 2s 17ms/step - loss: 0.0022\n",
            "Epoch 111/200\n",
            "106/106 [==============================] - 2s 18ms/step - loss: 0.0022\n",
            "Epoch 112/200\n",
            "106/106 [==============================] - 2s 18ms/step - loss: 0.0022\n",
            "Epoch 113/200\n",
            "106/106 [==============================] - 2s 18ms/step - loss: 0.0022\n",
            "Epoch 114/200\n",
            "106/106 [==============================] - 2s 18ms/step - loss: 0.0022\n",
            "Epoch 115/200\n",
            "106/106 [==============================] - 3s 30ms/step - loss: 0.0022\n",
            "Epoch 116/200\n",
            "106/106 [==============================] - 2s 18ms/step - loss: 0.0022\n",
            "Epoch 117/200\n",
            "106/106 [==============================] - 2s 18ms/step - loss: 0.0022\n",
            "Epoch 118/200\n",
            "106/106 [==============================] - 2s 18ms/step - loss: 0.0022\n",
            "Epoch 119/200\n",
            "106/106 [==============================] - 2s 18ms/step - loss: 0.0022\n",
            "Epoch 120/200\n",
            "106/106 [==============================] - 2s 18ms/step - loss: 0.0022\n",
            "Epoch 121/200\n",
            "106/106 [==============================] - 3s 29ms/step - loss: 0.0022\n",
            "Epoch 122/200\n",
            "106/106 [==============================] - 2s 18ms/step - loss: 0.0022\n",
            "Epoch 123/200\n",
            "106/106 [==============================] - 2s 18ms/step - loss: 0.0022\n",
            "Epoch 124/200\n",
            "106/106 [==============================] - 2s 18ms/step - loss: 0.0022\n",
            "Epoch 125/200\n",
            "106/106 [==============================] - 2s 18ms/step - loss: 0.0022\n",
            "Epoch 126/200\n",
            "106/106 [==============================] - 2s 18ms/step - loss: 0.0022\n",
            "Epoch 127/200\n",
            "106/106 [==============================] - 3s 29ms/step - loss: 0.0022\n",
            "Epoch 128/200\n",
            "106/106 [==============================] - 2s 18ms/step - loss: 0.0022\n",
            "Epoch 129/200\n",
            "106/106 [==============================] - 2s 18ms/step - loss: 0.0022\n",
            "Epoch 130/200\n",
            "106/106 [==============================] - 2s 18ms/step - loss: 0.0022\n",
            "Epoch 131/200\n",
            "106/106 [==============================] - 2s 18ms/step - loss: 0.0022\n",
            "Epoch 132/200\n",
            "106/106 [==============================] - 2s 18ms/step - loss: 0.0022\n",
            "Epoch 133/200\n",
            "106/106 [==============================] - 4s 36ms/step - loss: 0.0022\n",
            "Epoch 134/200\n",
            "106/106 [==============================] - 3s 24ms/step - loss: 0.0022\n",
            "Epoch 135/200\n",
            "106/106 [==============================] - 2s 18ms/step - loss: 0.0022\n",
            "Epoch 136/200\n",
            "106/106 [==============================] - 2s 18ms/step - loss: 0.0022\n",
            "Epoch 137/200\n",
            "106/106 [==============================] - 2s 18ms/step - loss: 0.0022\n",
            "Epoch 138/200\n",
            "106/106 [==============================] - 2s 19ms/step - loss: 0.0022\n",
            "Epoch 139/200\n",
            "106/106 [==============================] - 3s 25ms/step - loss: 0.0022\n",
            "Epoch 140/200\n",
            "106/106 [==============================] - 2s 22ms/step - loss: 0.0022\n",
            "Epoch 141/200\n",
            "106/106 [==============================] - 2s 18ms/step - loss: 0.0022\n",
            "Epoch 142/200\n",
            "106/106 [==============================] - 3s 28ms/step - loss: 0.0021\n",
            "Epoch 143/200\n",
            "106/106 [==============================] - 2s 18ms/step - loss: 0.0022\n",
            "Epoch 144/200\n",
            "106/106 [==============================] - 2s 18ms/step - loss: 0.0021\n",
            "Epoch 145/200\n",
            "106/106 [==============================] - 3s 29ms/step - loss: 0.0021\n",
            "Epoch 146/200\n",
            "106/106 [==============================] - 2s 18ms/step - loss: 0.0022\n",
            "Epoch 147/200\n",
            "106/106 [==============================] - 2s 19ms/step - loss: 0.0022\n",
            "Epoch 148/200\n",
            "106/106 [==============================] - 2s 18ms/step - loss: 0.0022\n",
            "Epoch 149/200\n",
            "106/106 [==============================] - 2s 17ms/step - loss: 0.0022\n",
            "Epoch 150/200\n",
            "106/106 [==============================] - 2s 18ms/step - loss: 0.0022\n",
            "Epoch 151/200\n",
            "106/106 [==============================] - 3s 29ms/step - loss: 0.0021\n",
            "Epoch 152/200\n",
            "106/106 [==============================] - 2s 18ms/step - loss: 0.0022\n",
            "Epoch 153/200\n",
            "106/106 [==============================] - 2s 18ms/step - loss: 0.0022\n",
            "Epoch 154/200\n",
            "106/106 [==============================] - 2s 18ms/step - loss: 0.0021\n",
            "Epoch 155/200\n",
            "106/106 [==============================] - 2s 18ms/step - loss: 0.0021\n",
            "Epoch 156/200\n",
            "106/106 [==============================] - 2s 18ms/step - loss: 0.0021\n",
            "Epoch 157/200\n",
            "106/106 [==============================] - 3s 29ms/step - loss: 0.0021\n",
            "Epoch 158/200\n",
            "106/106 [==============================] - 2s 18ms/step - loss: 0.0021\n",
            "Epoch 159/200\n",
            "106/106 [==============================] - 2s 18ms/step - loss: 0.0021\n",
            "Epoch 160/200\n",
            "106/106 [==============================] - 2s 18ms/step - loss: 0.0021\n",
            "Epoch 161/200\n",
            "106/106 [==============================] - 2s 18ms/step - loss: 0.0021\n",
            "Epoch 162/200\n",
            "106/106 [==============================] - 2s 18ms/step - loss: 0.0021\n",
            "Epoch 163/200\n",
            "106/106 [==============================] - 3s 30ms/step - loss: 0.0021\n",
            "Epoch 164/200\n",
            "106/106 [==============================] - 2s 18ms/step - loss: 0.0021\n",
            "Epoch 165/200\n",
            "106/106 [==============================] - 2s 18ms/step - loss: 0.0021\n",
            "Epoch 166/200\n",
            "106/106 [==============================] - 2s 18ms/step - loss: 0.0021\n",
            "Epoch 167/200\n",
            "106/106 [==============================] - 2s 18ms/step - loss: 0.0021\n",
            "Epoch 168/200\n",
            "106/106 [==============================] - 2s 18ms/step - loss: 0.0021\n",
            "Epoch 169/200\n",
            "106/106 [==============================] - 3s 29ms/step - loss: 0.0021\n",
            "Epoch 170/200\n",
            "106/106 [==============================] - 2s 18ms/step - loss: 0.0021\n",
            "Epoch 171/200\n",
            "106/106 [==============================] - 2s 20ms/step - loss: 0.0021\n",
            "Epoch 172/200\n",
            "106/106 [==============================] - 2s 18ms/step - loss: 0.0022\n",
            "Epoch 173/200\n",
            "106/106 [==============================] - 2s 18ms/step - loss: 0.0021\n",
            "Epoch 174/200\n",
            "106/106 [==============================] - 2s 19ms/step - loss: 0.0021\n",
            "Epoch 175/200\n",
            "106/106 [==============================] - 3s 29ms/step - loss: 0.0021\n",
            "Epoch 176/200\n",
            "106/106 [==============================] - 2s 18ms/step - loss: 0.0021\n",
            "Epoch 177/200\n",
            "106/106 [==============================] - 2s 18ms/step - loss: 0.0021\n",
            "Epoch 178/200\n",
            "106/106 [==============================] - 2s 18ms/step - loss: 0.0021\n",
            "Epoch 179/200\n",
            "106/106 [==============================] - 2s 18ms/step - loss: 0.0021\n",
            "Epoch 180/200\n",
            "106/106 [==============================] - 2s 18ms/step - loss: 0.0021\n",
            "Epoch 181/200\n",
            "106/106 [==============================] - 3s 29ms/step - loss: 0.0021\n",
            "Epoch 182/200\n",
            "106/106 [==============================] - 2s 18ms/step - loss: 0.0021\n",
            "Epoch 183/200\n",
            "106/106 [==============================] - 2s 18ms/step - loss: 0.0021\n",
            "Epoch 184/200\n",
            "106/106 [==============================] - 2s 19ms/step - loss: 0.0021\n",
            "Epoch 185/200\n",
            "106/106 [==============================] - 2s 19ms/step - loss: 0.0021\n",
            "Epoch 186/200\n",
            "106/106 [==============================] - 2s 20ms/step - loss: 0.0021\n",
            "Epoch 187/200\n",
            "106/106 [==============================] - 3s 28ms/step - loss: 0.0021\n",
            "Epoch 188/200\n",
            "106/106 [==============================] - 2s 18ms/step - loss: 0.0021\n",
            "Epoch 189/200\n",
            "106/106 [==============================] - 2s 18ms/step - loss: 0.0021\n",
            "Epoch 190/200\n",
            "106/106 [==============================] - 2s 18ms/step - loss: 0.0021\n",
            "Epoch 191/200\n",
            "106/106 [==============================] - 2s 18ms/step - loss: 0.0021\n",
            "Epoch 192/200\n",
            "106/106 [==============================] - 2s 21ms/step - loss: 0.0021\n",
            "Epoch 193/200\n",
            "106/106 [==============================] - 3s 27ms/step - loss: 0.0021\n",
            "Epoch 194/200\n",
            "106/106 [==============================] - 2s 18ms/step - loss: 0.0021\n",
            "Epoch 195/200\n",
            "106/106 [==============================] - 2s 18ms/step - loss: 0.0021\n",
            "Epoch 196/200\n",
            "106/106 [==============================] - 2s 18ms/step - loss: 0.0021\n",
            "Epoch 197/200\n",
            "106/106 [==============================] - 2s 18ms/step - loss: 0.0021\n",
            "Epoch 198/200\n",
            "106/106 [==============================] - 2s 20ms/step - loss: 0.0021\n",
            "Epoch 199/200\n",
            "106/106 [==============================] - 3s 27ms/step - loss: 0.0021\n",
            "Epoch 200/200\n",
            "106/106 [==============================] - 2s 18ms/step - loss: 0.0021\n",
            "3/3 [==============================] - 0s 8ms/step\n"
          ]
        }
      ],
      "source": [
        "# Train the model\n",
        "model.fit(X_train, y_train, epochs=200, batch_size=32, verbose=1)\n",
        "\n",
        "# Make predictions\n",
        "predictions = model.predict(X_test)\n",
        "predictions = scaler.inverse_transform(predictions)"
      ]
    },
    {
      "cell_type": "code",
      "execution_count": null,
      "id": "kOfdzbVdDclw",
      "metadata": {
        "colab": {
          "base_uri": "https://localhost:8080/"
        },
        "id": "kOfdzbVdDclw",
        "outputId": "60582045-2133-4935-ebaf-6e4927087e3e"
      },
      "outputs": [
        {
          "name": "stdout",
          "output_type": "stream",
          "text": [
            "RMSE: 0.007385964938768664\n"
          ]
        }
      ],
      "source": [
        "# Calculate RMSE\n",
        "rmse = np.sqrt(mean_squared_error(tsla_df['y'].values[-len(predictions):], predictions))\n",
        "print(\"RMSE:\", rmse)"
      ]
    }
  ],
  "metadata": {
    "colab": {
      "provenance": [],
      "toc_visible": true
    },
    "kernelspec": {
      "display_name": "Python 3 (ipykernel)",
      "language": "python",
      "name": "python3"
    },
    "language_info": {
      "codemirror_mode": {
        "name": "ipython",
        "version": 3
      },
      "file_extension": ".py",
      "mimetype": "text/x-python",
      "name": "python",
      "nbconvert_exporter": "python",
      "pygments_lexer": "ipython3",
      "version": "3.9.13"
    }
  },
  "nbformat": 4,
  "nbformat_minor": 5
}
